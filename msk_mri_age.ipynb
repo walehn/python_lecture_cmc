{
    "cells": [
        {
            "cell_type": "code",
            "execution_count": null,
            "source": [
                "import openpyxl\r\n",
                "import pandas as pd\r\n",
                "import os\r\n",
                "import tkinter as tk\r\n",
                "from tkinter import filedialog"
            ],
            "outputs": [],
            "metadata": {}
        },
        {
            "cell_type": "code",
            "execution_count": null,
            "source": [
                "## 파일 경로 받아오는 GUI 호출\r\n",
                "\r\n",
                "root = tk.Tk()\r\n",
                "root.withdraw()\r\n",
                "dir_path = filedialog.askopenfile(\r\n",
                "    parent=root,initialdir=os.getcwd(),title='Please select a file',\r\n",
                "    filetypes=(('xls files','*.xls'),('all files','*.*')))"
            ],
            "outputs": [],
            "metadata": {}
        },
        {
            "cell_type": "code",
            "execution_count": null,
            "source": [
                "## 파일 읽어서 Data Frame으로 저장\r\n",
                "\r\n",
                "print(\"load file: \", dir_path.name)\r\n",
                "df = pd.read_excel(dir_path.name, sheet_name=None)\r\n",
                "\r\n",
                "mri_table = pd.DataFrame()\r\n",
                "mri_table = pd.concat(df, ignore_index=True)"
            ],
            "outputs": [],
            "metadata": {}
        },
        {
            "cell_type": "code",
            "execution_count": null,
            "source": [
                "# 필요없는 값들 다 지우기\r\n",
                "\r\n",
                "mri_table.drop([0, 1, 2, 3], inplace=True)\r\n",
                "mri_table.dropna(axis=1, inplace=True)\r\n",
                "mri_table.rename(columns=mri_table.iloc[0],inplace=True)\r\n",
                "mri_table.drop([4], inplace=True)\r\n",
                "\r\n",
                "# str --> int 형변환\r\n",
                "\r\n",
                "mri_table[\"NO\"] = pd.to_numeric(mri_table[\"NO\"])\r\n",
                "mri_table[\"등록번호\"] = pd.to_numeric(mri_table[\"등록번호\"])"
            ],
            "outputs": [],
            "metadata": {}
        },
        {
            "cell_type": "code",
            "execution_count": 18,
            "source": [
                "## 나이 필터링 (17세 미만 제외)\r\n",
                "\r\n",
                "from datetime import datetime\r\n",
                "from dateutil.relativedelta import relativedelta\r\n",
                "\r\n",
                "pre_mil = mri_table[pd.to_numeric(mri_table[\"주민번호\"].str[7]) < 3]\r\n",
                "pre_mil[\"주민번호\"] = \"19\" + pre_mil[\"주민번호\"]\r\n",
                "\r\n",
                "post_mil = mri_table[pd.to_numeric(mri_table[\"주민번호\"].str[7]) > 2]\r\n",
                "post_mil[\"주민번호\"] = \"20\" + post_mil[\"주민번호\"]\r\n",
                "\r\n",
                "mri_table2 = pd.merge(pre_mil,post_mil, how='outer')\r\n",
                "mri_table2 = mri_table2.sort_values(by='NO')\r\n",
                "mri_table = mri_table2\r\n",
                "\r\n",
                "mri_table[\"주민번호\"] = mri_table[\"주민번호\"].str[:8]\r\n",
                "\r\n",
                "mri_table[\"주민번호\"] = mri_table[\"주민번호\"].astype('datetime64[ns]')\r\n",
                "mri_table = mri_table.rename(columns={'주민번호':'생년월일'})\r\n"
            ],
            "outputs": [],
            "metadata": {}
        },
        {
            "cell_type": "code",
            "execution_count": 12,
            "source": [
                "today = datetime.today()\r\n",
                "age = pd.DataFrame()\r\n",
                "age[\"age\"] = mri_table['생년월일'].apply(\r\n",
                "               lambda x: today.year - x.year - \r\n",
                "               ((today.month, today.day) < (x.month, x.day)) \r\n",
                "               )\r\n",
                "mri_table[\"생년월일\"] = age[\"age\"]\r\n",
                "mri_table = mri_table.rename(columns={'생년월일':'나이'})"
            ],
            "outputs": [],
            "metadata": {}
        },
        {
            "cell_type": "code",
            "execution_count": null,
            "source": [
                "\r\n",
                "mri_table.drop([\"주민번호\",\"진료일자\",\"병실\"],axis=1, inplace=True)"
            ],
            "outputs": [],
            "metadata": {}
        },
        {
            "cell_type": "code",
            "execution_count": null,
            "source": [
                "## remove list 파일 읽어서 Data Frame으로 저장\r\n",
                "\r\n",
                "remove_list_path = \"./msk/remove_list.xlsx\"\r\n",
                "df2 = pd.read_excel(remove_list_path, sheet_name=None, engine='openpyxl')\r\n",
                "\r\n",
                "remove_list_table = pd.DataFrame()\r\n",
                "remove_list_table = pd.concat(df2, ignore_index=True)"
            ],
            "outputs": [],
            "metadata": {}
        },
        {
            "cell_type": "code",
            "execution_count": null,
            "source": [
                "## remove list와 일치하는 처방 삭제하기\r\n",
                "\r\n",
                "for i in range(len(remove_list_table)):\r\n",
                "    mri_table = mri_table[~mri_table[\"처방명\"].str.contains(remove_list_table[\"키워드\"][i])]\r\n",
                "\r\n",
                "# No 1부터 다시 매기기\r\n",
                "mri_table[\"NO\"] = range(1, len(mri_table)+1)"
            ],
            "outputs": [],
            "metadata": {}
        }
    ],
    "metadata": {
        "orig_nbformat": 4,
        "language_info": {
            "name": "python",
            "version": "3.9.6",
            "mimetype": "text/x-python",
            "codemirror_mode": {
                "name": "ipython",
                "version": 3
            },
            "pygments_lexer": "ipython3",
            "nbconvert_exporter": "python",
            "file_extension": ".py"
        },
        "kernelspec": {
            "name": "python3",
            "display_name": "Python 3.9.6 64-bit ('python_lecture': conda)"
        },
        "interpreter": {
            "hash": "e19bf18834b11d2c426e5aafd1c4dd12b471300132bb543789897eb7adb32c40"
        }
    },
    "nbformat": 4,
    "nbformat_minor": 2
}