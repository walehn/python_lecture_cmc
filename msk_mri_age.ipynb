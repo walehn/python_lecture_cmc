{
    "cells": [
        {
            "cell_type": "code",
            "execution_count": 1,
            "source": [
                "import openpyxl\r\n",
                "import pandas as pd\r\n",
                "import os\r\n",
                "import tkinter as tk\r\n",
                "from tkinter import filedialog\r\n",
                "from datetime import datetime"
            ],
            "outputs": [],
            "metadata": {}
        },
        {
            "cell_type": "code",
            "execution_count": 2,
            "source": [
                "## 파일 경로 받아오는 GUI 호출\r\n",
                "\r\n",
                "root = tk.Tk()\r\n",
                "root.withdraw()\r\n",
                "dir_path = filedialog.askopenfile(\r\n",
                "    parent=root,initialdir=os.getcwd(),title='Please select a file',\r\n",
                "    filetypes=(('xls files','*.xls'),('all files','*.*')))"
            ],
            "outputs": [],
            "metadata": {}
        },
        {
            "cell_type": "code",
            "execution_count": 9,
            "source": [
                "## 파일 읽어서 Data Frame으로 저장\r\n",
                "\r\n",
                "print(\"load file: \", dir_path.name)\r\n",
                "df = pd.read_excel(dir_path.name, sheet_name=None)\r\n",
                "\r\n",
                "mri_table = pd.DataFrame()\r\n",
                "mri_table = pd.concat(df, ignore_index=True)"
            ],
            "outputs": [
                {
                    "output_type": "stream",
                    "name": "stdout",
                    "text": [
                        "load file:  C:/Users/admin/Desktop/0831.xls\n",
                        "WARNING *** OLE2 inconsistency: SSCS size is 0 but SSAT size is non-zero\n"
                    ]
                }
            ],
            "metadata": {}
        },
        {
            "cell_type": "code",
            "execution_count": 10,
            "source": [
                "# 필요없는 값들 다 지우기\r\n",
                "\r\n",
                "mri_table.drop([0, 1, 2, 3], inplace=True)\r\n",
                "mri_table.dropna(axis=1, inplace=True)\r\n",
                "mri_table.rename(columns=mri_table.iloc[0],inplace=True)\r\n",
                "mri_table.drop([4], inplace=True)\r\n",
                "\r\n",
                "# str --> int 형변환\r\n",
                "\r\n",
                "mri_table[\"NO\"] = pd.to_numeric(mri_table[\"NO\"])\r\n",
                "mri_table[\"등록번호\"] = pd.to_numeric(mri_table[\"등록번호\"])"
            ],
            "outputs": [],
            "metadata": {}
        },
        {
            "cell_type": "code",
            "execution_count": 11,
            "source": [
                "## 나이 필터링 (17세 미만 제외)\r\n",
                "\r\n",
                "pre_mil = mri_table[pd.to_numeric(mri_table[\"주민번호\"].str[7]) < 3]\r\n",
                "pre_mil[\"주민번호\"] = \"19\" + pre_mil[\"주민번호\"]\r\n",
                "\r\n",
                "post_mil = mri_table[pd.to_numeric(mri_table[\"주민번호\"].str[7]) > 2]\r\n",
                "post_mil[\"주민번호\"] = \"20\" + post_mil[\"주민번호\"]\r\n",
                "\r\n",
                "mri_table2 = pd.merge(pre_mil,post_mil, how='outer')\r\n",
                "mri_table2 = mri_table2.sort_values(by='NO')\r\n",
                "mri_table = mri_table2\r\n",
                "\r\n",
                "mri_table[\"주민번호\"] = mri_table[\"주민번호\"].str[:8]\r\n",
                "\r\n",
                "mri_table[\"주민번호\"] = mri_table[\"주민번호\"].astype('datetime64[ns]')\r\n",
                "mri_table = mri_table.rename(columns={'주민번호':'생년월일'})\r\n"
            ],
            "outputs": [
                {
                    "output_type": "stream",
                    "name": "stderr",
                    "text": [
                        "C:\\Users\\admin\\AppData\\Local\\Temp/ipykernel_6356/2530370945.py:7: SettingWithCopyWarning: \n",
                        "A value is trying to be set on a copy of a slice from a DataFrame.\n",
                        "Try using .loc[row_indexer,col_indexer] = value instead\n",
                        "\n",
                        "See the caveats in the documentation: https://pandas.pydata.org/pandas-docs/stable/user_guide/indexing.html#returning-a-view-versus-a-copy\n",
                        "  pre_mil[\"주민번호\"] = \"19\" + pre_mil[\"주민번호\"]\n",
                        "C:\\Users\\admin\\AppData\\Local\\Temp/ipykernel_6356/2530370945.py:10: SettingWithCopyWarning: \n",
                        "A value is trying to be set on a copy of a slice from a DataFrame.\n",
                        "Try using .loc[row_indexer,col_indexer] = value instead\n",
                        "\n",
                        "See the caveats in the documentation: https://pandas.pydata.org/pandas-docs/stable/user_guide/indexing.html#returning-a-view-versus-a-copy\n",
                        "  post_mil[\"주민번호\"] = \"20\" + post_mil[\"주민번호\"]\n"
                    ]
                }
            ],
            "metadata": {}
        },
        {
            "cell_type": "code",
            "execution_count": 12,
            "source": [
                "# 만나이 계산\r\n",
                "\r\n",
                "today = datetime.today()\r\n",
                "age = pd.DataFrame()\r\n",
                "age[\"age\"] = mri_table['생년월일'].apply(\r\n",
                "               lambda x: today.year - x.year - \r\n",
                "               ((today.month, today.day) < (x.month, x.day)) \r\n",
                "               )\r\n",
                "mri_table[\"생년월일\"] = age[\"age\"]\r\n",
                "mri_table = mri_table.rename(columns={'생년월일':'나이'})"
            ],
            "outputs": [],
            "metadata": {}
        },
        {
            "cell_type": "code",
            "execution_count": 13,
            "source": [
                "# 나이 17세 미만 환자 삭제\r\n",
                "mri_table = mri_table[mri_table[\"나이\"] > 17]"
            ],
            "outputs": [],
            "metadata": {}
        },
        {
            "cell_type": "code",
            "execution_count": 14,
            "source": [
                "# 필요 없는 열들 삭제\r\n",
                "mri_table.drop([\"나이\",\"진료일자\",\"병실\"],axis=1, inplace=True)"
            ],
            "outputs": [],
            "metadata": {}
        },
        {
            "cell_type": "code",
            "execution_count": 17,
            "source": [
                "## remove list 파일 읽어서 Data Frame으로 저장\r\n",
                "\r\n",
                "remove_list_path = \"./remove_list.xlsx\"\r\n",
                "df2 = pd.read_excel(remove_list_path, sheet_name=None, engine='openpyxl')\r\n",
                "\r\n",
                "remove_list_table = pd.DataFrame()\r\n",
                "remove_list_table = pd.concat(df2, ignore_index=True)"
            ],
            "outputs": [],
            "metadata": {}
        },
        {
            "cell_type": "code",
            "execution_count": 18,
            "source": [
                "## remove list와 일치하는 처방 삭제하기\r\n",
                "\r\n",
                "for i in range(len(remove_list_table)):\r\n",
                "    mri_table = mri_table[~mri_table[\"처방명\"].str.contains(remove_list_table[\"키워드\"][i])]\r\n",
                "\r\n",
                "# No 1부터 다시 매기기\r\n",
                "mri_table[\"NO\"] = range(1, len(mri_table)+1)"
            ],
            "outputs": [],
            "metadata": {}
        },
        {
            "cell_type": "code",
            "execution_count": 19,
            "source": [
                "## data frame을 openpyxl worksheet로 전환\r\n",
                "\r\n",
                "from openpyxl import Workbook\r\n",
                "from openpyxl.utils.dataframe import dataframe_to_rows\r\n",
                "\r\n",
                "wb = Workbook()\r\n",
                "ws = wb.active\r\n",
                "\r\n",
                "for r in dataframe_to_rows(mri_table, index=False, header=True):\r\n",
                "    ws.append(r)"
            ],
            "outputs": [],
            "metadata": {}
        },
        {
            "cell_type": "code",
            "execution_count": 20,
            "source": [
                "## 서식 넣기\r\n",
                "\r\n",
                "from openpyxl.styles import Alignment, Font, Border, Side\r\n",
                "align_center = Alignment(horizontal='center', vertical='center', wrap_text= True)\r\n",
                "font_9 = Font(name='굴림', size=9, bold=False)\r\n",
                "border_thin = Border(left=Side(style='thin'),right=Side(style='thin'),top=Side(style='thin'),bottom=Side(style='thin'))\r\n",
                "col_max = ws.max_column+2\r\n",
                "\r\n",
                "for x in range(1, ws.max_row + 1):\r\n",
                "    for y in range(1, col_max):\r\n",
                "        ws.cell(row=x, column=y).alignment = align_center\r\n",
                "        ws.cell(row=x, column=y).font = font_9\r\n",
                "        ws.cell(row=x, column=y).border = border_thin"
            ],
            "outputs": [],
            "metadata": {}
        },
        {
            "cell_type": "code",
            "execution_count": 21,
            "source": [
                "## 셀 크기 조정\r\n",
                "for row in range(1,ws.max_row+1):\r\n",
                "    ws.row_dimensions[row].height = 27.75\r\n",
                "\r\n",
                "from openpyxl.utils import get_column_letter\r\n",
                "for col in range(1,ws.max_column+2):\r\n",
                "    if col == 5:\r\n",
                "        ws.column_dimensions[get_column_letter(col)].width = 48\r\n",
                "    elif col == 9:\r\n",
                "        ws.column_dimensions[get_column_letter(col)].width = 48\r\n",
                "    elif col == 10:\r\n",
                "        ws.column_dimensions[get_column_letter(col)].width = 32\r\n",
                "    else:\r\n",
                "        ws.column_dimensions[get_column_letter(col)].width = 13.6"
            ],
            "outputs": [],
            "metadata": {}
        },
        {
            "cell_type": "code",
            "execution_count": 22,
            "source": [
                "## 최종 결과물을 엑셀 파일로 저장\r\n",
                "\r\n",
                "wb.save(\"msk_result.xlsx\")"
            ],
            "outputs": [],
            "metadata": {}
        }
    ],
    "metadata": {
        "orig_nbformat": 4,
        "language_info": {
            "name": "python",
            "version": "3.9.6",
            "mimetype": "text/x-python",
            "codemirror_mode": {
                "name": "ipython",
                "version": 3
            },
            "pygments_lexer": "ipython3",
            "nbconvert_exporter": "python",
            "file_extension": ".py"
        },
        "kernelspec": {
            "name": "python3",
            "display_name": "Python 3.9.6 64-bit ('python_lecture': conda)"
        },
        "interpreter": {
            "hash": "e19bf18834b11d2c426e5aafd1c4dd12b471300132bb543789897eb7adb32c40"
        }
    },
    "nbformat": 4,
    "nbformat_minor": 2
}