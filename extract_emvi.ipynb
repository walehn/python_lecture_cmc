{
 "cells": [
  {
   "cell_type": "markdown",
   "source": [
    "예제 2: 복잡한 병리 report에서 원하는 결과만 추출하여 binary coding 하기"
   ],
   "metadata": {}
  },
  {
   "cell_type": "code",
   "execution_count": null,
   "source": [
    "import pandas as pd\r\n",
    "import glob, os\r\n",
    "import tkinter as tk\r\n",
    "from tkinter import *\r\n",
    "from tkinter import filedialog"
   ],
   "outputs": [],
   "metadata": {}
  },
  {
   "cell_type": "code",
   "execution_count": null,
   "source": [
    "## 파일 경로 받아오는 GUI 호출\r\n",
    "\r\n",
    "root = tk.Tk()\r\n",
    "root.withdraw()\r\n",
    "dir_path = filedialog.askopenfile(\r\n",
    "    parent=root,initialdir=os.getcwd(),title='Please select a file',\r\n",
    "    filetypes=(('xlsx files','*.xlsx'),('all files','*.*')))"
   ],
   "outputs": [],
   "metadata": {}
  },
  {
   "cell_type": "code",
   "execution_count": null,
   "source": [
    "## 파일 읽어서 Data Frame으로 저장\r\n",
    "\r\n",
    "print(\"load file: \", dir_path.name)\r\n",
    "df = pd.read_excel(dir_path.name, sheet_name=None, engine= 'openpyxl')\r\n",
    "\r\n",
    "rectal_data = pd.DataFrame()\r\n",
    "rectal_data= pd.concat(df, ignore_index=True)\r\n",
    "rectal_data.head()"
   ],
   "outputs": [],
   "metadata": {}
  },
  {
   "cell_type": "code",
   "execution_count": null,
   "source": [
    "## patholgy report 변수에서 venous invasion 내용을 추출, 새로운 EMVI_report 변수를 만듬 (정규표현식 사용)\r\n",
    "\r\n",
    "rectal_data[\"EMVI_report\"] = rectal_data[\"Pathology\"].str.extract(r'(venous invasion;\\s\\w+)')"
   ],
   "outputs": [],
   "metadata": {}
  },
  {
   "cell_type": "code",
   "execution_count": null,
   "source": [
    "rectal_data[\"EMVI_report\"].unique()"
   ],
   "outputs": [],
   "metadata": {}
  },
  {
   "cell_type": "code",
   "execution_count": null,
   "source": [
    "## EMVI_report 변수를 1/0 binary coding으로 바꾼 결과를 새로운 pEMVI 변수 생성하고 저장\r\n",
    "\r\n",
    "b_coding = rectal_data[\"EMVI_report\"].str.contains('present')\r\n",
    "b_coding = b_coding.replace(True,1)\r\n",
    "b_coding = b_coding.replace(False,0)\r\n",
    "rectal_data[\"pEMVI\"] = b_coding"
   ],
   "outputs": [],
   "metadata": {}
  },
  {
   "cell_type": "code",
   "execution_count": null,
   "source": [
    "## 최종 결과물을 엑셀 파일로 저장\r\n",
    "\r\n",
    "rectal_data.to_excel('result_emvi.xlsx',encoding='utf-8-sig', index=False)"
   ],
   "outputs": [],
   "metadata": {}
  },
  {
   "cell_type": "markdown",
   "source": [
    "GUI로 저장할 파일 이름을 키보드 입력으로 받아온 후 엑셀 파일로 저장하기"
   ],
   "metadata": {}
  },
  {
   "cell_type": "code",
   "execution_count": null,
   "source": [
    "root2 = tk.Tk()\r\n",
    "root2.title(\"저장할 파일 이름을 입력하세요\")\r\n",
    "root2.geometry(\"500x60+800+500\") # 가로 * 세로 + x좌표 + y좌표\r\n",
    "root2.resizable(False,False) # 창 크기 변경 불가\r\n",
    "\r\n",
    "# 파일 이름 받아오는 entry 생성\r\n",
    "ety = tk.Entry(root2, width=30)\r\n",
    "ety.pack()\r\n",
    "ety.insert(END, \".xlsx\")\r\n",
    "\r\n",
    "# Save button 눌렀을 때 동작하는 함수\r\n",
    "def btncmd():\r\n",
    "    filename = ety.get()\r\n",
    "    print(\"결과를\",filename,\"으로 저장합니다\")\r\n",
    "    rectal_data.to_excel(filename,encoding='utf-8-sig', index=False)\r\n",
    "    root2.destroy()\r\n",
    "    root2.quit()\r\n",
    "\r\n",
    "# 버튼 생성\r\n",
    "btn1 = tk.Button(root2, padx=10, pady=5, text = \"Save\", command=btncmd)\r\n",
    "btn1.pack()\r\n",
    "\r\n",
    "root2.mainloop()"
   ],
   "outputs": [],
   "metadata": {}
  },
  {
   "cell_type": "code",
   "execution_count": null,
   "source": [],
   "outputs": [],
   "metadata": {}
  }
 ],
 "metadata": {
  "orig_nbformat": 4,
  "language_info": {
   "name": "python",
   "version": "3.8.5",
   "mimetype": "text/x-python",
   "codemirror_mode": {
    "name": "ipython",
    "version": 3
   },
   "pygments_lexer": "ipython3",
   "nbconvert_exporter": "python",
   "file_extension": ".py"
  },
  "kernelspec": {
   "name": "python3",
   "display_name": "Python 3.8.5 64-bit ('pytorch': conda)"
  },
  "interpreter": {
   "hash": "62cf0a1743ce66b263a9d3909917ae4dda61d2464cbcfd9e32305751d1c79106"
  }
 },
 "nbformat": 4,
 "nbformat_minor": 2
}