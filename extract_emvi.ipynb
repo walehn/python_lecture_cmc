{
 "cells": [
  {
   "cell_type": "markdown",
   "source": [
    "예제 2: 복잡한 병리 report에서 원하는 결과 추출하여 binary coding 하기"
   ],
   "metadata": {}
  },
  {
   "cell_type": "code",
   "execution_count": null,
   "source": [
    "import pandas as pd\r\n",
    "import glob, os\r\n",
    "import tkinter as tk\r\n",
    "from tkinter import filedialog"
   ],
   "outputs": [],
   "metadata": {}
  },
  {
   "cell_type": "code",
   "execution_count": null,
   "source": [
    "## 파일 경로 받아오는 GUI 호출\r\n",
    "\r\n",
    "root = tk.Tk()\r\n",
    "root.withdraw()\r\n",
    "dir_path = filedialog.askopenfile(\r\n",
    "    parent=root,initialdir=os.getcwd(),title='Please select a file',\r\n",
    "    filetypes=(('xlsx files','*.xlsx'),('all files','*.*')))"
   ],
   "outputs": [],
   "metadata": {}
  },
  {
   "cell_type": "code",
   "execution_count": null,
   "source": [
    "## 파일 읽어서 Data Frame으로 저장\r\n",
    "\r\n",
    "print(\"load file: \", dir_path.name)\r\n",
    "df = pd.read_excel(dir_path.name, sheet_name=None, engine= 'openpyxl')\r\n",
    "\r\n",
    "rectal_data = pd.DataFrame()\r\n",
    "rectal_data= pd.concat(df, ignore_index=True)\r\n",
    "rectal_data.head()"
   ],
   "outputs": [],
   "metadata": {}
  },
  {
   "cell_type": "code",
   "execution_count": null,
   "source": [
    "## patholgy 컬럼에서 venous invasion 추출해서 새롭게 EMVI 컬럼 만듬 (정규표현식 사용)\r\n",
    "\r\n",
    "rectal_data[\"EMVI_report\"] = rectal_data[\"Pathology\"].str.extract(r'(venous invasion;\\s\\w+)')"
   ],
   "outputs": [],
   "metadata": {}
  },
  {
   "cell_type": "code",
   "execution_count": null,
   "source": [
    "rectal_data[\"EMVI_report\"].unique()"
   ],
   "outputs": [],
   "metadata": {}
  },
  {
   "cell_type": "code",
   "execution_count": null,
   "source": [
    "## 1/0 binary coding으로 바꾼 결과를 새로운 pEMVI 컬럼 생성\r\n",
    "\r\n",
    "b_coding = rectal_data[\"EMVI_report\"].str.contains('present')\r\n",
    "b_coding = b_coding.replace(True,1)\r\n",
    "b_coding = b_coding.replace(False,0)\r\n",
    "rectal_data[\"pEMVI\"] = b_coding"
   ],
   "outputs": [],
   "metadata": {}
  },
  {
   "cell_type": "code",
   "execution_count": null,
   "source": [
    "## 최종 결과물을 엑셀 파일로 저장\r\n",
    "\r\n",
    "rectal_data.to_excel('result_emvi.xlsx',encoding='utf-8-sig', index=False)"
   ],
   "outputs": [],
   "metadata": {}
  }
 ],
 "metadata": {
  "orig_nbformat": 4,
  "language_info": {
   "name": "python",
   "version": "3.8.5",
   "mimetype": "text/x-python",
   "codemirror_mode": {
    "name": "ipython",
    "version": 3
   },
   "pygments_lexer": "ipython3",
   "nbconvert_exporter": "python",
   "file_extension": ".py"
  },
  "kernelspec": {
   "name": "python3",
   "display_name": "Python 3.8.5 64-bit ('pytorch': conda)"
  },
  "interpreter": {
   "hash": "62cf0a1743ce66b263a9d3909917ae4dda61d2464cbcfd9e32305751d1c79106"
  }
 },
 "nbformat": 4,
 "nbformat_minor": 2
}