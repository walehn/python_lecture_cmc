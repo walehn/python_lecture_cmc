{
    "cells": [
        {
            "cell_type": "code",
            "execution_count": 1,
            "source": [
                "import pandas as pd\r\n",
                "import glob"
            ],
            "outputs": [],
            "metadata": {}
        },
        {
            "cell_type": "code",
            "execution_count": 2,
            "source": [
                "all_data = pd.DataFrame()\r\n",
                "all_data1 = pd.DataFrame()"
            ],
            "outputs": [],
            "metadata": {}
        },
        {
            "cell_type": "code",
            "execution_count": 3,
            "source": [
                "for f in glob.glob(\"*.xlsx\"): # 지정한 folder의 모든 xlsx 파일을 읽어서 한 개의 dataframe에 저장\r\n",
                "    df=pd.read_excel(f, sheet_name=None, engine= 'openpyxl')\r\n",
                "    all_data1 = pd.concat(df, ignore_index=True)\r\n",
                "    all_data=all_data.append(all_data1,ignore_index=True)"
            ],
            "outputs": [],
            "metadata": {}
        },
        {
            "cell_type": "code",
            "execution_count": 4,
            "source": [
                "all_data.to_excel('merged_data.xlsx',encoding='utf-8-sig', index=False) #합본 엑셀 파일 저장"
            ],
            "outputs": [],
            "metadata": {}
        },
        {
            "cell_type": "code",
            "execution_count": 3,
            "source": [
                "for f in glob.glob(\"lung/*.csv\"): # csv 불러옴\r\n",
                "    df=pd.read_csv(f,index_col=None, header=0, encoding='UTF8')\r\n",
                "    all_data1 = pd.concat([df], ignore_index=True)\r\n",
                "    all_data=all_data.append(all_data1,ignore_index=True)"
            ],
            "outputs": [],
            "metadata": {}
        },
        {
            "cell_type": "code",
            "execution_count": 4,
            "source": [
                "all_data.to_csv('merged_data.csv',encoding='utf-8-sig', index=False) #합본 csv 파일 저장"
            ],
            "outputs": [],
            "metadata": {}
        }
    ],
    "metadata": {
        "orig_nbformat": 4,
        "language_info": {
            "name": "python",
            "version": "3.8.5",
            "mimetype": "text/x-python",
            "codemirror_mode": {
                "name": "ipython",
                "version": 3
            },
            "pygments_lexer": "ipython3",
            "nbconvert_exporter": "python",
            "file_extension": ".py"
        },
        "kernelspec": {
            "name": "python3",
            "display_name": "Python 3.8.5 64-bit ('pytorch': conda)"
        },
        "interpreter": {
            "hash": "62cf0a1743ce66b263a9d3909917ae4dda61d2464cbcfd9e32305751d1c79106"
        }
    },
    "nbformat": 4,
    "nbformat_minor": 2
}