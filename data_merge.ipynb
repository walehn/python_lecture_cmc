{
    "cells": [
        {
            "cell_type": "markdown",
            "source": [
                "예제 1-1: 엑셀 파일 합치기 with simple GUI"
            ],
            "metadata": {}
        },
        {
            "cell_type": "code",
            "execution_count": null,
            "source": [
                "import pandas as pd\r\n",
                "import glob, os\r\n",
                "import tkinter as tk\r\n",
                "from tkinter import filedialog"
            ],
            "outputs": [],
            "metadata": {}
        },
        {
            "cell_type": "code",
            "execution_count": null,
            "source": [
                "all_data = pd.DataFrame()\r\n",
                "all_data1 = pd.DataFrame()"
            ],
            "outputs": [],
            "metadata": {}
        },
        {
            "cell_type": "code",
            "execution_count": null,
            "source": [
                "root = tk.Tk()\r\n",
                "root.withdraw()\r\n",
                "dir_path1 = filedialog.askdirectory(parent=root,initialdir=os.getcwd(),title='Please select a folder')\r\n",
                "print(\"\\ndir_path : \", dir_path1)"
            ],
            "outputs": [],
            "metadata": {}
        },
        {
            "cell_type": "code",
            "execution_count": null,
            "source": [
                "dir_path_excel = dir_path1 + \"/*.xlsx\"\r\n",
                "\r\n",
                "for f in glob.glob(dir_path_excel): # 선택한 folder의 모든 xlsx 파일을 읽어서 한 개의 dataframe에 저장\r\n",
                "    print(\"load file: \" + f)\r\n",
                "    df=pd.read_excel(f, sheet_name=None, engine= 'openpyxl')\r\n",
                "    all_data1 = pd.concat(df, ignore_index=True)\r\n",
                "    all_data=all_data.append(all_data1,ignore_index=True)"
            ],
            "outputs": [],
            "metadata": {}
        },
        {
            "cell_type": "code",
            "execution_count": null,
            "source": [
                "all_data.to_excel('merged_data.xlsx',encoding='utf-8-sig', index=False) #합본 엑셀 파일 저장"
            ],
            "outputs": [],
            "metadata": {}
        },
        {
            "cell_type": "markdown",
            "source": [
                "예제 1-2: CSV 파일 합치기 with simple GUI"
            ],
            "metadata": {}
        },
        {
            "cell_type": "code",
            "execution_count": null,
            "source": [
                "all_data_csv = pd.DataFrame()\r\n",
                "all_data_csv1 = pd.DataFrame()"
            ],
            "outputs": [],
            "metadata": {}
        },
        {
            "cell_type": "code",
            "execution_count": null,
            "source": [
                "dir_path2 = filedialog.askdirectory(parent=root,initialdir=os.getcwd(),title='Please select a folder')\r\n",
                "print(\"\\ndir_path : \", dir_path2)"
            ],
            "outputs": [],
            "metadata": {}
        },
        {
            "cell_type": "code",
            "execution_count": null,
            "source": [
                "dir_path_data_csv = dir_path2 + \"/*.csv\"\r\n",
                "\r\n",
                "for f in glob.glob(dir_path_data_csv): # csv 불러옴\r\n",
                "    print(\"load file: \" + f)\r\n",
                "    df=pd.read_csv(f,index_col=None, header=0, encoding='UTF8')\r\n",
                "    all_data_csv1 = pd.concat([df], ignore_index=True)\r\n",
                "    all_data_csv=all_data_csv.append(all_data_csv1,ignore_index=True)"
            ],
            "outputs": [],
            "metadata": {}
        },
        {
            "cell_type": "code",
            "execution_count": null,
            "source": [
                "all_data_csv.to_csv('merged_data.csv',encoding='utf-8-sig', index=False) #합본 csv 파일 저장"
            ],
            "outputs": [],
            "metadata": {}
        }
    ],
    "metadata": {
        "orig_nbformat": 4,
        "language_info": {
            "name": "python",
            "version": "3.8.5",
            "mimetype": "text/x-python",
            "codemirror_mode": {
                "name": "ipython",
                "version": 3
            },
            "pygments_lexer": "ipython3",
            "nbconvert_exporter": "python",
            "file_extension": ".py"
        },
        "kernelspec": {
            "name": "python3",
            "display_name": "Python 3.8.5 64-bit ('pytorch': conda)"
        },
        "interpreter": {
            "hash": "62cf0a1743ce66b263a9d3909917ae4dda61d2464cbcfd9e32305751d1c79106"
        }
    },
    "nbformat": 4,
    "nbformat_minor": 2
}