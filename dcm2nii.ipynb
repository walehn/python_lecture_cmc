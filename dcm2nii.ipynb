{
 "cells": [
  {
   "cell_type": "code",
   "execution_count": null,
   "metadata": {},
   "outputs": [],
   "source": [
    "import os\n",
    "import tkinter as tk\n",
    "from tkinter import filedialog\n",
    "import subprocess"
   ]
  },
  {
   "cell_type": "code",
   "execution_count": null,
   "metadata": {},
   "outputs": [],
   "source": [
    "# select input folder\n",
    "\n",
    "root = tk.Tk()\n",
    "root.withdraw()\n",
    "dir_path1 = filedialog.askdirectory(parent=root,initialdir=os.getcwd(),title='Please select a input folder')\n",
    "print(\"\\ndir_path : \", dir_path1)"
   ]
  },
  {
   "cell_type": "code",
   "execution_count": null,
   "metadata": {},
   "outputs": [],
   "source": [
    "# function to create output folder\n",
    "def createFolder(directory):\n",
    "    try:\n",
    "        if not os.path.exists(directory):\n",
    "            os.makedirs(directory)\n",
    "    except OSError:\n",
    "        print ('Error: Creating directory. ' +  directory)"
   ]
  },
  {
   "cell_type": "code",
   "execution_count": null,
   "metadata": {},
   "outputs": [],
   "source": [
    "# convert dicom to nifti\n",
    "counter = 0\n",
    "for item in os.scandir(dir_path1):\n",
    "    if item.is_dir():\n",
    "        input_directory = dir_path1 + \"/\" + item.name\n",
    "        counter += 1\n",
    "        output_directory ='D:/data/test/output_nifti/' + f\"p{counter:03}_\" + item.name[0:17]\n",
    "        createFolder(output_directory)\n",
    "        subprocess.run([\"D:/data/test/dcm2niix.exe\", \"-f\", item.name[0:17],\"-i\", \"y\", \n",
    "        \"-o\", output_directory, input_directory])"
   ]
  }
 ],
 "metadata": {
  "kernelspec": {
   "display_name": "pytorch",
   "language": "python",
   "name": "python3"
  },
  "language_info": {
   "codemirror_mode": {
    "name": "ipython",
    "version": 3
   },
   "file_extension": ".py",
   "mimetype": "text/x-python",
   "name": "python",
   "nbconvert_exporter": "python",
   "pygments_lexer": "ipython3",
   "version": "3.8.5"
  },
  "orig_nbformat": 4,
  "vscode": {
   "interpreter": {
    "hash": "aebecddee62656831ae0f0c46b4d43648658f4c24d14be553149e9844f48c6e1"
   }
  }
 },
 "nbformat": 4,
 "nbformat_minor": 2
}
