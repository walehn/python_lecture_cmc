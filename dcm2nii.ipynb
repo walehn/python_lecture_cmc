{
 "cells": [
  {
   "cell_type": "code",
   "execution_count": 32,
   "metadata": {},
   "outputs": [],
   "source": [
    "import os\n",
    "import tkinter as tk\n",
    "from tkinter import filedialog\n",
    "import subprocess"
   ]
  },
  {
   "cell_type": "code",
   "execution_count": 33,
   "metadata": {},
   "outputs": [
    {
     "name": "stdout",
     "output_type": "stream",
     "text": [
      "\n",
      "dir_path :  D:/data/input\n"
     ]
    }
   ],
   "source": [
    "# select input folder\n",
    "\n",
    "root = tk.Tk()\n",
    "root.withdraw()\n",
    "dir_path1 = filedialog.askdirectory(parent=root,initialdir=os.getcwd(),title='Please select a input folder')\n",
    "print(\"\\ndir_path : \", dir_path1)"
   ]
  },
  {
   "cell_type": "code",
   "execution_count": 34,
   "metadata": {},
   "outputs": [],
   "source": [
    "# function to create output folder\n",
    "def createFolder(directory):\n",
    "    try:\n",
    "        if not os.path.exists(directory):\n",
    "            os.makedirs(directory)\n",
    "    except OSError:\n",
    "        print ('Error: Creating directory. ' +  directory)"
   ]
  },
  {
   "cell_type": "code",
   "execution_count": 35,
   "metadata": {},
   "outputs": [],
   "source": [
    "# convert dicom to nifti\n",
    "counter = 0\n",
    "for item in sorted(os.scandir(dir_path1), key=lambda x: int(x.name)):\n",
    "    if item.is_dir():\n",
    "        input_directory = dir_path1 + \"/\" + item.name\n",
    "        counter += 1\n",
    "        output_directory ='D:/data/output/' + f\"p{counter:03}_\" + item.name\n",
    "        createFolder(output_directory)\n",
    "        subprocess.run([\"D:/git_repo/python_lecture_cmc/dcm2niix.exe\", \"-f\", \"%p\",#\"-i\", \"y\", \n",
    "        \"-o\", output_directory, input_directory])"
   ]
  },
  {
   "cell_type": "code",
   "execution_count": 36,
   "metadata": {},
   "outputs": [],
   "source": [
    "import glob, shutil\n",
    "\n",
    "dir_path2 =\"D:/data/output/\"\n",
    "dest = \"D:/data/final/\""
   ]
  },
  {
   "cell_type": "code",
   "execution_count": 38,
   "metadata": {},
   "outputs": [],
   "source": [
    "def get_machine_number_and_FA(json_path):\n",
    "    import json\n",
    "    json_files = glob.glob(json_path+\"/*.json\")\n",
    "    with open(json_files[0]) as f:\n",
    "        data = json.load(f)\n",
    "    return(data[\"DeviceSerialNumber\"], data[\"FlipAngle\"])"
   ]
  },
  {
   "cell_type": "code",
   "execution_count": 59,
   "metadata": {},
   "outputs": [],
   "source": [
    "def copy_and_rename_verio1(src,final_dst):\n",
    "    import os\n",
    "    j = 0\n",
    "    path = src + \"/Subtraction.nii\"\n",
    "    output_sequence_name = [\"/NE.nii\",\"/AP.nii\", \"/AP_sub.nii\", \"/PVP.nii\", \"/TP.nii\", \"/HBP.nii\"]\n",
    "    if os.path.exists(path):\n",
    "        print(\"Subtraction.nii exists\")\n",
    "        sequence_verio = [\"/*tra_caipi3_bh*.nii\",\"/*tra_arterial*.nii\",\"/Subtraction.nii\",\"/*venous*.nii\",\n",
    "        \"/*tra_delayed*.nii\",\"/*t1_vibe_fs_tra_caipi3_bh_DELAYED*.nii\"]\n",
    "        for i in sequence_verio:            \n",
    "            nifti_file = glob.glob(src+i)\n",
    "            shutil.copy(nifti_file[0],final_dst+output_sequence_name[j])\n",
    "            j += 1\n",
    "    else:\n",
    "        sequence_verio = [\"/*tra_caipi3_bh*.nii\",\"/*tra_arterial*.nii\",\"/*venous*.nii\",\"/*tra_delayed*.nii\",\"/*t1_vibe_fs_tra_caipi3_bh_DELAYED*.nii\"]\n",
    "        for i in sequence_verio:            \n",
    "            nifti_file = glob.glob(src+i)\n",
    "            if j == 1:\n",
    "                shutil.copy(nifti_file[0],final_dst+output_sequence_name[j])\n",
    "                shutil.copy(nifti_file[1],final_dst+output_sequence_name[j+1])\n",
    "                j = 3\n",
    "            else:\n",
    "                shutil.copy(nifti_file[0],final_dst+output_sequence_name[j])\n",
    "                j += 1"
   ]
  },
  {
   "cell_type": "code",
   "execution_count": 62,
   "metadata": {},
   "outputs": [],
   "source": [
    "def copy_and_rename_verio2(src,final_dst):\n",
    "    j = 0\n",
    "    sequence_verio = [\"/*T1_dynamic_PRE*.nii\",\"/AXL_3D_T1_dynamic(_FA_11')c.nii\",\"/AXL_3D_T1_dynamic(_FA_11')a.nii\",\n",
    "    \"/AXL_3D_T1_dynamic(_FA_11').nii\",\"/AXL_3D_T1_dynamic(_FA_11')b.nii\",\"/*AXL_3D_T1*.nii\"]\n",
    "    output_sequence_name = [\"/NE.nii\",\"/AP.nii\", \"/AP_sub.nii\", \"/PVP.nii\", \"/TP.nii\", \"/HBP.nii\"]\n",
    "    for i in sequence_verio:            \n",
    "        nifti_file = glob.glob(src+i)\n",
    "        shutil.copy(nifti_file[0],final_dst+output_sequence_name[j])\n",
    "        j += 1\n",
    "\n",
    "def copy_and_rename_verio2_fa15(src,final_dst):\n",
    "    j = 0\n",
    "    sequence_verio = [\"/AXL_3D_T1_dynamic_PRE.nii\",\"/AXL_3D_T1_dynamic(_for_lately_Aterial_phase_test_+_2_sec_)a.nii\",\"/AXL_3D_T1_dynamic(_for_lately_Aterial_phase_test_+_2_sec_)b.nii\",\n",
    "    \"/AXL_3D_T1_dynamic(_for_lately_Aterial_phase_test_+_2_sec_).nii\",\"/AXL_3D_T1_dynamic(_for_lately_Aterial_phase_test_+_2_sec_)c.nii\",\"/AXL_3D_T1_20MIN.nii\"]\n",
    "    output_sequence_name = [\"/NE.nii\",\"/AP.nii\", \"/AP_sub.nii\", \"/PVP.nii\", \"/TP.nii\", \"/HBP.nii\"]\n",
    "    for i in sequence_verio:            \n",
    "        nifti_file = glob.glob(src+i)\n",
    "        shutil.copy(nifti_file[0],final_dst+output_sequence_name[j])\n",
    "        j += 1\n",
    "\n",
    "def copy_and_rename_vida1(src,final_dst):\n",
    "    j = 0\n",
    "    sequence_verio = [\"/T1_TRA_3D_VIBE_CAIPI_FS_-_venousa.nii\",\"/T1_TRA_3D_VIBE_CAIPI_FS_-_Multi_artery.nii\",\"/T1_TRA_3D_VIBE_CAIPI_FS_-_Multi_arterya.nii\",\n",
    "    \"/T1_TRA_3D_VIBE_CAIPI_FS_-_venous.nii\",\"/T1_TRA_3D_VIBE_CAIPI_FS_-_delayed.nii\",\"/T1_TRA_3D_VIBE_CAIPI_FS_15min_FA20.nii\"]\n",
    "    output_sequence_name = [\"/NE.nii\",\"/AP.nii\", \"/AP_sub.nii\", \"/PVP.nii\", \"/TP.nii\", \"/HBP.nii\"]\n",
    "    for i in sequence_verio:            \n",
    "        nifti_file = glob.glob(src+i)\n",
    "        shutil.copy(nifti_file[0],final_dst+output_sequence_name[j])\n",
    "        j += 1\n",
    "\n",
    "def copy_and_rename_vida2(src,final_dst):\n",
    "    j = 0\n",
    "    sequence_verio = [\"/T1_TRA_3D_VIBE_CAIPI_PRE.nii\",\"/T1_TRA_3D_VIBE_CAIPI_FS_-_Multi_arteryc.nii\",\"/T1_TRA_3D_VIBE_CAIPI_FS_-_Multi_arterya.nii\",\n",
    "    \"/T1_TRA_3D_VIBE_CAIPI_FS_-_venousa.nii\",\"/T1_TRA_3D_VIBE_CAIPI_FS_-_delayed.nii\",\"/T1_TRA_3D_VIBE_CAIPI_FS_15min_FA20.nii\"]\n",
    "    output_sequence_name = [\"/NE.nii\",\"/AP.nii\", \"/AP_sub.nii\", \"/PVP.nii\", \"/TP.nii\", \"/HBP.nii\"]\n",
    "    for i in sequence_verio:            \n",
    "        nifti_file = glob.glob(src+i)\n",
    "        shutil.copy(nifti_file[0],final_dst+output_sequence_name[j])\n",
    "        j += 1\n",
    "\n",
    "def copy_and_rename_vida3(src,final_dst):\n",
    "    j = 0\n",
    "    sequence_verio = [\"/T1_TRA_3D_VIBE_CAIPI_FS_-_venous.nii\",\"/T1_TRA_3D_VIBE_CAIPI_FS_-_Multi_artery.nii\",\"/T1_TRA_3D_VIBE_CAIPI_FS_-_Multi_arteryb.nii\",\n",
    "    \"/T1_TRA_3D_VIBE_CAIPI_FS_-_venousa.nii\",\"/T1_TRA_3D_VIBE_CAIPI_FS_-_delayed.nii\",\"/T1_TRA_3D_VIBE_CAIPI_FS_15min_FA20.nii\"]\n",
    "    output_sequence_name = [\"/NE.nii\",\"/AP.nii\", \"/AP_sub.nii\", \"/PVP.nii\", \"/TP.nii\", \"/HBP.nii\"]\n",
    "    for i in sequence_verio:            \n",
    "        nifti_file = glob.glob(src+i)\n",
    "        shutil.copy(nifti_file[0],final_dst+output_sequence_name[j])\n",
    "        j += 1\n",
    "\n",
    "def copy_and_rename_vida4(src,final_dst):\n",
    "    j = 0\n",
    "    sequence_verio = [\"/T1_TRA_3D_VIBE_CAIPI_FS_-_venousa.nii\",\"/T1_TRA_3D_VIBE_CAIPI_FS_-_Multi_arteryc.nii\",\"/T1_TRA_3D_VIBE_CAIPI_FS_-_Multi_artery.nii\",\n",
    "    \"/T1_TRA_3D_VIBE_CAIPI_FS_-_venous.nii\",\"/T1_TRA_3D_VIBE_CAIPI_FS_-_delayed.nii\",\"/T1_TRA_3D_VIBE_CAIPI_FS_15min_FA20.nii\"]\n",
    "    output_sequence_name = [\"/NE.nii\",\"/AP.nii\", \"/AP_sub.nii\", \"/PVP.nii\", \"/TP.nii\", \"/HBP.nii\"]\n",
    "    for i in sequence_verio:            \n",
    "        nifti_file = glob.glob(src+i)\n",
    "        shutil.copy(nifti_file[0],final_dst+output_sequence_name[j])\n",
    "        j += 1"
   ]
  },
  {
   "cell_type": "code",
   "execution_count": 63,
   "metadata": {},
   "outputs": [
    {
     "name": "stdout",
     "output_type": "stream",
     "text": [
      "p080_24115222: vida type 4\n",
      "p081_24172714: verio type 1\n",
      "p082_24545050: verio type 1\n",
      "p083_24845892: verio type 1\n",
      "p084_25256911: vida type 1\n",
      "p085_25264081: verio type 1\n",
      "p086_25294772: verio type 1\n",
      "p087_25316384: verio type 2, FA 15.5\n",
      "p088_25364732: verio type 1\n",
      "p089_25701982: verio type 1\n",
      "p090_25733073: verio type 1\n",
      "p091_26048134: verio type 1\n",
      "p092_26149520: verio type 1\n",
      "p093_26864810: verio type 1\n",
      "p094_27027362: verio type 1\n",
      "p095_27847012: verio type 1\n",
      "p096_28099172: verio type 2, FA 15.5\n",
      "p097_28350031: verio type 1\n",
      "p098_28392122: verio type 1\n",
      "p099_28487394: verio type 1\n",
      "p100_28646774: verio type 1\n"
     ]
    }
   ],
   "source": [
    "for item in os.scandir(dir_path2):\n",
    "    if item.is_dir():\n",
    "        src = dir_path2 + item.name\n",
    "        final_dst = dest + item.name\n",
    "        createFolder(final_dst)\n",
    "        machine, FA = get_machine_number_and_FA(src)\n",
    "        if machine == \"40223\" and FA == 15.5:\n",
    "            print(item.name + \": verio type 2, FA 15.5\")\n",
    "            copy_and_rename_verio2_fa15(src,final_dst)\n",
    "        elif machine == \"40223\":\n",
    "            print(item.name +\": verio type 2\")\n",
    "            copy_and_rename_verio2(src,final_dst)\n",
    "        elif machine == \"176015\":\n",
    "            print(item.name +\": vida type 1\")\n",
    "            copy_and_rename_vida1(src,final_dst)\n",
    "        elif machine == \"175808\":\n",
    "            print(item.name +\": vida type 2\")\n",
    "            copy_and_rename_vida2(src,final_dst)\n",
    "        elif machine == \"176080\":\n",
    "            print(item.name +\": vida type 3\")\n",
    "            copy_and_rename_vida3(src,final_dst)\n",
    "        elif machine == \"176078\":\n",
    "            print(item.name +\": vida type 4\")\n",
    "            copy_and_rename_vida3(src,final_dst)                      \n",
    "        else:\n",
    "            print(item.name +\": verio type 1\")\n",
    "            copy_and_rename_verio1(src,final_dst)\n",
    "            "
   ]
  }
 ],
 "metadata": {
  "kernelspec": {
   "display_name": "Python 3.8.5 ('base')",
   "language": "python",
   "name": "python3"
  },
  "language_info": {
   "codemirror_mode": {
    "name": "ipython",
    "version": 3
   },
   "file_extension": ".py",
   "mimetype": "text/x-python",
   "name": "python",
   "nbconvert_exporter": "python",
   "pygments_lexer": "ipython3",
   "version": "3.8.5"
  },
  "orig_nbformat": 4,
  "vscode": {
   "interpreter": {
    "hash": "ad2bdc8ecc057115af97d19610ffacc2b4e99fae6737bb82f5d7fb13d2f2c186"
   }
  }
 },
 "nbformat": 4,
 "nbformat_minor": 2
}
