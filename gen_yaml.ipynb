{
 "cells": [
  {
   "cell_type": "code",
   "execution_count": null,
   "metadata": {},
   "outputs": [],
   "source": [
    "import pandas as pd\n",
    "import glob, os\n",
    "import tkinter as tk\n",
    "from tkinter import filedialog\n",
    "import yaml"
   ]
  },
  {
   "cell_type": "code",
   "execution_count": null,
   "metadata": {},
   "outputs": [],
   "source": [
    "# select input folder\n",
    "\n",
    "root = tk.Tk()\n",
    "root.withdraw()\n",
    "dir_path1 = filedialog.askdirectory(parent=root,initialdir=os.getcwd(),title='Please select a input folder')\n",
    "print(\"\\ndir_path : \", dir_path1)"
   ]
  },
  {
   "cell_type": "code",
   "execution_count": null,
   "metadata": {},
   "outputs": [],
   "source": [
    "def createFolder(directory):\n",
    "    try:\n",
    "        if not os.path.exists(directory):\n",
    "            os.makedirs(directory)\n",
    "    except OSError:\n",
    "        print ('Error: Creating directory. ' +  directory)\n",
    "\n",
    "def get_subfolders(path):\n",
    "    subfolders = []\n",
    "    out_dir = []\n",
    "    filename = []\n",
    "    for item in os.scandir(path):\n",
    "        if item.is_dir():\n",
    "            subfolders.append(dir_path1 + \"/\" + item.name) # input path\n",
    "            output_directory = 'D:/data/test/output_nifti/' + item.name[0:17]\n",
    "            out_dir.append(output_directory)    # output path\n",
    "            createFolder(output_directory) # create output folders\n",
    "            filename.append(item.name[0:17] + '_nifti')    # filename\n",
    "    return subfolders, out_dir, filename"
   ]
  },
  {
   "cell_type": "code",
   "execution_count": null,
   "metadata": {},
   "outputs": [],
   "source": [
    "subfolders, out_dir, filename = get_subfolders(dir_path1)"
   ]
  },
  {
   "cell_type": "code",
   "execution_count": null,
   "metadata": {},
   "outputs": [],
   "source": [
    "# create a dataframe from the list of subfolder names\n",
    "data_yaml = pd.DataFrame(list(zip(subfolders,out_dir,filename)), columns=['in_dir', 'out_dir', 'filename'])\n",
    "print(data_yaml)"
   ]
  },
  {
   "cell_type": "code",
   "execution_count": null,
   "metadata": {},
   "outputs": [],
   "source": [
    "# convert the dataframe to a dictionary\n",
    "data = data_yaml.to_dict(orient='records')\n",
    "data_with_header = dict({'Options': {'isGz': False, 'isFlipY': False, 'isVerbose': False, 'isCreateBIDS': False, 'isOnlySingleFile': False},\n",
    " 'Files': data })\n",
    "\n",
    "# select the yaml file path to dump\n",
    "root2 = tk.Tk()\n",
    "root2.withdraw()\n",
    "yaml_path = filedialog.askdirectory(parent=root2,initialdir=os.getcwd(),title='Please select a yaml file path:')\n",
    "\n",
    "# open the YAML file and write the contents\n",
    "with open(yaml_path + '/batch_config.yaml', 'w') as f:\n",
    "    yaml.dump(data_with_header, f, sort_keys=False)"
   ]
  },
  {
   "cell_type": "code",
   "execution_count": null,
   "metadata": {},
   "outputs": [],
   "source": [
    "# execute dcm2niibatch.exe\n",
    "!D:/data/test/dcm2niibatch.exe batch_config.yaml"
   ]
  }
 ],
 "metadata": {
  "kernelspec": {
   "display_name": "pytorch",
   "language": "python",
   "name": "python3"
  },
  "language_info": {
   "codemirror_mode": {
    "name": "ipython",
    "version": 3
   },
   "file_extension": ".py",
   "mimetype": "text/x-python",
   "name": "python",
   "nbconvert_exporter": "python",
   "pygments_lexer": "ipython3",
   "version": "3.8.5"
  },
  "orig_nbformat": 4,
  "vscode": {
   "interpreter": {
    "hash": "aebecddee62656831ae0f0c46b4d43648658f4c24d14be553149e9844f48c6e1"
   }
  }
 },
 "nbformat": 4,
 "nbformat_minor": 2
}
