{
 "cells": [
  {
   "cell_type": "code",
   "execution_count": 7,
   "metadata": {},
   "outputs": [],
   "source": [
    "import pandas as pd\n",
    "import glob, os\n",
    "import tkinter as tk\n",
    "from tkinter import filedialog\n",
    "import csv\n",
    "import yaml"
   ]
  },
  {
   "cell_type": "code",
   "execution_count": 2,
   "metadata": {},
   "outputs": [
    {
     "name": "stdout",
     "output_type": "stream",
     "text": [
      "\n",
      "dir_path :  C:/Program Files\n"
     ]
    }
   ],
   "source": [
    "root = tk.Tk()\n",
    "root.withdraw()\n",
    "dir_path1 = filedialog.askdirectory(parent=root,initialdir=os.getcwd(),title='Please select a folder')\n",
    "print(\"\\ndir_path : \", dir_path1)"
   ]
  },
  {
   "cell_type": "code",
   "execution_count": 3,
   "metadata": {},
   "outputs": [],
   "source": [
    "def get_subfolders(path):\n",
    "    subfolders = []\n",
    "    out_dir = []\n",
    "    filename = []\n",
    "    for item in os.scandir(path):\n",
    "        if item.is_dir():\n",
    "            subfolders.append(item.name)\n",
    "            out_dir.append('data_nifti')\n",
    "            filename.append(item.name + '_nifti')\n",
    "    return subfolders, out_dir, filename"
   ]
  },
  {
   "cell_type": "code",
   "execution_count": 4,
   "metadata": {},
   "outputs": [],
   "source": [
    "subfolders, out_dir, filename = get_subfolders(dir_path1)"
   ]
  },
  {
   "cell_type": "code",
   "execution_count": 5,
   "metadata": {},
   "outputs": [
    {
     "name": "stdout",
     "output_type": "stream",
     "text": [
      "                                         in_dir     out_dir  \\\n",
      "0                                         Adobe  data_nifti   \n",
      "1                                        AhnLab  data_nifti   \n",
      "2                                      Bandizip  data_nifti   \n",
      "3                              Beyond Compare 4  data_nifti   \n",
      "4                                  Common Files  data_nifti   \n",
      "5                                   CUAssistant  data_nifti   \n",
      "6                                          DAUM  data_nifti   \n",
      "7                                          DIFX  data_nifti   \n",
      "8                                        Docker  data_nifti   \n",
      "9                                        Google  data_nifti   \n",
      "10                                     Inkscape  data_nifti   \n",
      "11                                        Intel  data_nifti   \n",
      "12                            Internet Explorer  data_nifti   \n",
      "13                                 ITK-SNAP 3.8  data_nifti   \n",
      "14                                     Logitech  data_nifti   \n",
      "15                                      LyX 2.3  data_nifti   \n",
      "16                  Microsoft Analysis Services  data_nifti   \n",
      "17                                Microsoft MPI  data_nifti   \n",
      "18                             Microsoft Office  data_nifti   \n",
      "19                         Microsoft SQL Server  data_nifti   \n",
      "20                Microsoft Update Health Tools  data_nifti   \n",
      "21                                Microsoft.NET  data_nifti   \n",
      "22                                       millie  data_nifti   \n",
      "23                        ModifiableWindowsApps  data_nifti   \n",
      "24                                      MSBuild  data_nifti   \n",
      "25                                   MyEnTunnel  data_nifti   \n",
      "26                                    Notepad++  data_nifti   \n",
      "27                                         NPKI  data_nifti   \n",
      "28                           NVIDIA Corporation  data_nifti   \n",
      "29                 NVIDIA GPU Computing Toolkit  data_nifti   \n",
      "30                                PCHealthCheck  data_nifti   \n",
      "31                                            R  data_nifti   \n",
      "32                           RadiAntViewer64bit  data_nifti   \n",
      "33                                      Realtek  data_nifti   \n",
      "34                         Reference Assemblies  data_nifti   \n",
      "35                                        rempl  data_nifti   \n",
      "36                                         RIDI  data_nifti   \n",
      "37                                      RStudio  data_nifti   \n",
      "38                                        RUXIM  data_nifti   \n",
      "39                                      Samsung  data_nifti   \n",
      "40                                      Tableau  data_nifti   \n",
      "41                        Uninstall Information  data_nifti   \n",
      "42                             Windows Defender  data_nifti   \n",
      "43  Windows Defender Advanced Threat Protection  data_nifti   \n",
      "44                                 Windows Mail  data_nifti   \n",
      "45                         Windows Media Player  data_nifti   \n",
      "46                  Windows Multimedia Platform  data_nifti   \n",
      "47                                   Windows NT  data_nifti   \n",
      "48                         Windows Photo Viewer  data_nifti   \n",
      "49                     Windows Portable Devices  data_nifti   \n",
      "50                             Windows Security  data_nifti   \n",
      "51                              Windows Sidebar  data_nifti   \n",
      "52                                  WindowsApps  data_nifti   \n",
      "53                            WindowsPowerShell  data_nifti   \n",
      "54                                      Wizvera  data_nifti   \n",
      "\n",
      "                                             filename  \n",
      "0                                         Adobe_nifti  \n",
      "1                                        AhnLab_nifti  \n",
      "2                                      Bandizip_nifti  \n",
      "3                              Beyond Compare 4_nifti  \n",
      "4                                  Common Files_nifti  \n",
      "5                                   CUAssistant_nifti  \n",
      "6                                          DAUM_nifti  \n",
      "7                                          DIFX_nifti  \n",
      "8                                        Docker_nifti  \n",
      "9                                        Google_nifti  \n",
      "10                                     Inkscape_nifti  \n",
      "11                                        Intel_nifti  \n",
      "12                            Internet Explorer_nifti  \n",
      "13                                 ITK-SNAP 3.8_nifti  \n",
      "14                                     Logitech_nifti  \n",
      "15                                      LyX 2.3_nifti  \n",
      "16                  Microsoft Analysis Services_nifti  \n",
      "17                                Microsoft MPI_nifti  \n",
      "18                             Microsoft Office_nifti  \n",
      "19                         Microsoft SQL Server_nifti  \n",
      "20                Microsoft Update Health Tools_nifti  \n",
      "21                                Microsoft.NET_nifti  \n",
      "22                                       millie_nifti  \n",
      "23                        ModifiableWindowsApps_nifti  \n",
      "24                                      MSBuild_nifti  \n",
      "25                                   MyEnTunnel_nifti  \n",
      "26                                    Notepad++_nifti  \n",
      "27                                         NPKI_nifti  \n",
      "28                           NVIDIA Corporation_nifti  \n",
      "29                 NVIDIA GPU Computing Toolkit_nifti  \n",
      "30                                PCHealthCheck_nifti  \n",
      "31                                            R_nifti  \n",
      "32                           RadiAntViewer64bit_nifti  \n",
      "33                                      Realtek_nifti  \n",
      "34                         Reference Assemblies_nifti  \n",
      "35                                        rempl_nifti  \n",
      "36                                         RIDI_nifti  \n",
      "37                                      RStudio_nifti  \n",
      "38                                        RUXIM_nifti  \n",
      "39                                      Samsung_nifti  \n",
      "40                                      Tableau_nifti  \n",
      "41                        Uninstall Information_nifti  \n",
      "42                             Windows Defender_nifti  \n",
      "43  Windows Defender Advanced Threat Protection_nifti  \n",
      "44                                 Windows Mail_nifti  \n",
      "45                         Windows Media Player_nifti  \n",
      "46                  Windows Multimedia Platform_nifti  \n",
      "47                                   Windows NT_nifti  \n",
      "48                         Windows Photo Viewer_nifti  \n",
      "49                     Windows Portable Devices_nifti  \n",
      "50                             Windows Security_nifti  \n",
      "51                              Windows Sidebar_nifti  \n",
      "52                                  WindowsApps_nifti  \n",
      "53                            WindowsPowerShell_nifti  \n",
      "54                                      Wizvera_nifti  \n"
     ]
    }
   ],
   "source": [
    "# create a dataframe from the list of subfolder names\n",
    "data_csv = pd.DataFrame(list(zip(subfolders,out_dir,filename)), columns=['in_dir', 'out_dir', 'filename'])\n",
    "# save the dataframe to a CSV file\n",
    "data_csv.to_csv(\"subfolders.csv\", index=False)\n",
    "print(data_csv)"
   ]
  },
  {
   "cell_type": "code",
   "execution_count": 12,
   "metadata": {},
   "outputs": [],
   "source": [
    "# use the SafeDumper class to preserve the original order of keys\n",
    "class MySafeDumper(yaml.SafeDumper):\n",
    "    def ignore_aliases(self, data):\n",
    "        return True\n",
    "\n",
    "def csv_to_yaml(csv_file, yaml_file):\n",
    "    # open the CSV file and read the contents\n",
    "    with open(csv_file, 'r') as f:\n",
    "        reader = csv.DictReader(f)\n",
    "        data = [row for row in reader]\n",
    "\n",
    "    # open the YAML file and write the contents\n",
    "    with open(yaml_file, 'w') as f:\n",
    "        yaml.dump(data, f, Dumper=MySafeDumper, default_flow_style=False, sort_keys=False)\n",
    "\n",
    "csv_to_yaml('subfolders.csv', 'subfolders.yaml')"
   ]
  },
  {
   "cell_type": "code",
   "execution_count": 11,
   "metadata": {},
   "outputs": [],
   "source": [
    "# convert the dataframe to a dictionary\n",
    "data = data_csv.to_dict(orient='records')\n",
    "\n",
    "# open the YAML file and write the contents\n",
    "with open('subfolders.yaml', 'w') as f:\n",
    "    yaml.dump(data, f, sort_keys=False)"
   ]
  }
 ],
 "metadata": {
  "interpreter": {
   "hash": "62cf0a1743ce66b263a9d3909917ae4dda61d2464cbcfd9e32305751d1c79106"
  },
  "kernelspec": {
   "display_name": "Python 3.8.5 ('pytorch')",
   "language": "python",
   "name": "python3"
  },
  "language_info": {
   "codemirror_mode": {
    "name": "ipython",
    "version": 3
   },
   "file_extension": ".py",
   "mimetype": "text/x-python",
   "name": "python",
   "nbconvert_exporter": "python",
   "pygments_lexer": "ipython3",
   "version": "3.8.5"
  },
  "orig_nbformat": 4
 },
 "nbformat": 4,
 "nbformat_minor": 2
}
