{
 "cells": [
  {
   "cell_type": "code",
   "execution_count": 1,
   "metadata": {},
   "outputs": [],
   "source": [
    "import pandas as pd\n",
    "import glob, os\n",
    "import tkinter as tk\n",
    "from tkinter import filedialog\n",
    "import yaml"
   ]
  },
  {
   "cell_type": "code",
   "execution_count": 2,
   "metadata": {},
   "outputs": [
    {
     "name": "stdout",
     "output_type": "stream",
     "text": [
      "\n",
      "dir_path :  D:/data/test/input\n"
     ]
    }
   ],
   "source": [
    "# select working folder\n",
    "\n",
    "root = tk.Tk()\n",
    "root.withdraw()\n",
    "dir_path1 = filedialog.askdirectory(parent=root,initialdir=os.getcwd(),title='Please select a folder')\n",
    "print(\"\\ndir_path : \", dir_path1)"
   ]
  },
  {
   "cell_type": "code",
   "execution_count": 14,
   "metadata": {},
   "outputs": [],
   "source": [
    "def get_subfolders(path):\n",
    "    subfolders = []\n",
    "    out_dir = []\n",
    "    filename = []\n",
    "    for item in os.scandir(path):\n",
    "        if item.is_dir():\n",
    "            subfolders.append(dir_path1 + \"/\" + item.name) # input path\n",
    "            out_dir.append('D:/data/test/output_nifti')    # output path\n",
    "            filename.append(item.name[0:17] + '_nifti')    # filename\n",
    "    return subfolders, out_dir, filename"
   ]
  },
  {
   "cell_type": "code",
   "execution_count": 15,
   "metadata": {},
   "outputs": [],
   "source": [
    "subfolders, out_dir, filename = get_subfolders(dir_path1)"
   ]
  },
  {
   "cell_type": "code",
   "execution_count": 16,
   "metadata": {},
   "outputs": [
    {
     "name": "stdout",
     "output_type": "stream",
     "text": [
      "                                       in_dir                    out_dir  \\\n",
      "0  D:/data/test/input/22109643_20220719142740  D:/data/test/output_nifti   \n",
      "1  D:/data/test/input/22109643_20230103120452  D:/data/test/output_nifti   \n",
      "2  D:/data/test/input/24915465_20220622140925  D:/data/test/output_nifti   \n",
      "3  D:/data/test/input/24915465_20221214095457  D:/data/test/output_nifti   \n",
      "\n",
      "                  filename  \n",
      "0  22109643_20220719_nifti  \n",
      "1  22109643_20230103_nifti  \n",
      "2  24915465_20220622_nifti  \n",
      "3  24915465_20221214_nifti  \n"
     ]
    }
   ],
   "source": [
    "# create a dataframe from the list of subfolder names\n",
    "data_csv = pd.DataFrame(list(zip(subfolders,out_dir,filename)), columns=['in_dir', 'out_dir', 'filename'])\n",
    "print(data_csv)"
   ]
  },
  {
   "cell_type": "code",
   "execution_count": 17,
   "metadata": {},
   "outputs": [],
   "source": [
    "# convert the dataframe to a dictionary\n",
    "data = data_csv.to_dict(orient='records')\n",
    "\n",
    "data_with_header = dict({'Options': {'isGz': False, 'isFlipY': False, 'isVerbose': False, 'isCreateBIDS': False, 'isOnlySingleFile': False},\n",
    " 'Files': data })\n",
    "\n",
    "# open the YAML file and write the contents\n",
    "with open('batch_config.yaml', 'w') as f:\n",
    "    yaml.dump(data_with_header, f, sort_keys=False)"
   ]
  }
 ],
 "metadata": {
  "kernelspec": {
   "display_name": "pytorch",
   "language": "python",
   "name": "python3"
  },
  "language_info": {
   "codemirror_mode": {
    "name": "ipython",
    "version": 3
   },
   "file_extension": ".py",
   "mimetype": "text/x-python",
   "name": "python",
   "nbconvert_exporter": "python",
   "pygments_lexer": "ipython3",
   "version": "3.8.5"
  },
  "orig_nbformat": 4,
  "vscode": {
   "interpreter": {
    "hash": "aebecddee62656831ae0f0c46b4d43648658f4c24d14be553149e9844f48c6e1"
   }
  }
 },
 "nbformat": 4,
 "nbformat_minor": 2
}
